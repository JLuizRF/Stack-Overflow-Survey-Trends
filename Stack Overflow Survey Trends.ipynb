{
 "cells": [
  {
   "cell_type": "markdown",
   "id": "de8e67a1",
   "metadata": {},
   "source": [
    "### Importing libraries "
   ]
  },
  {
   "cell_type": "code",
   "execution_count": 24,
   "id": "7cf31a69",
   "metadata": {},
   "outputs": [],
   "source": [
    "import pandas as pd \n",
    "import seaborn as sns\n",
    "import matplotlib.pyplot as plt\n",
    "import numpy as np\n",
    "\n"
   ]
  },
  {
   "cell_type": "markdown",
   "id": "e2cce5ae",
   "metadata": {},
   "source": [
    "### Exploring and cleaning the data "
   ]
  },
  {
   "cell_type": "code",
   "execution_count": 3,
   "id": "c05fc58b",
   "metadata": {},
   "outputs": [
    {
     "name": "stderr",
     "output_type": "stream",
     "text": [
      "C:\\Users\\Jose Luiz\\AppData\\Local\\Temp\\ipykernel_14968\\3387839391.py:1: DtypeWarning: Columns (18,19,20) have mixed types. Specify dtype option on import or set low_memory=False.\n",
      "  df = pd.read_csv('developer_dataset.csv')\n"
     ]
    }
   ],
   "source": [
    "df = pd.read_csv('developer_dataset.csv')\n"
   ]
  },
  {
   "cell_type": "markdown",
   "id": "14ce3fd4",
   "metadata": {},
   "source": [
    "#### Checking columns' names "
   ]
  },
  {
   "cell_type": "code",
   "execution_count": 10,
   "id": "b95804d3",
   "metadata": {},
   "outputs": [
    {
     "name": "stdout",
     "output_type": "stream",
     "text": [
      "Index(['RespondentID', 'Year', 'Country', 'Employment', 'UndergradMajor',\n",
      "       'DevType', 'LanguageWorkedWith', 'LanguageDesireNextYear',\n",
      "       'DatabaseWorkedWith', 'DatabaseDesireNextYear', 'PlatformWorkedWith',\n",
      "       'PlatformDesireNextYear', 'Hobbyist', 'OrgSize', 'YearsCodePro',\n",
      "       'JobSeek', 'ConvertedComp', 'WorkWeekHrs', 'NEWJobHunt',\n",
      "       'NEWJobHuntResearch', 'NEWLearn'],\n",
      "      dtype='object')\n"
     ]
    }
   ],
   "source": [
    "print(df.columns)"
   ]
  },
  {
   "cell_type": "markdown",
   "id": "dd782256",
   "metadata": {},
   "source": [
    "#### Checking number of records in each column"
   ]
  },
  {
   "cell_type": "code",
   "execution_count": 15,
   "id": "68bad3f3",
   "metadata": {},
   "outputs": [
    {
     "data": {
      "text/plain": [
       "RespondentID              111209\n",
       "Year                      111209\n",
       "Country                   111209\n",
       "Employment                109425\n",
       "UndergradMajor             98453\n",
       "DevType                   100433\n",
       "LanguageWorkedWith        102018\n",
       "LanguageDesireNextYear     96044\n",
       "DatabaseWorkedWith         85859\n",
       "DatabaseDesireNextYear     74234\n",
       "PlatformWorkedWith         91609\n",
       "PlatformDesireNextYear     85376\n",
       "Hobbyist                   68352\n",
       "OrgSize                    54804\n",
       "YearsCodePro               94793\n",
       "JobSeek                    60556\n",
       "ConvertedComp              91333\n",
       "WorkWeekHrs                51089\n",
       "NEWJobHunt                 19127\n",
       "NEWJobHuntResearch         18683\n",
       "NEWLearn                   24226\n",
       "dtype: int64"
      ]
     },
     "execution_count": 15,
     "metadata": {},
     "output_type": "execute_result"
    }
   ],
   "source": [
    "df.count()"
   ]
  },
  {
   "cell_type": "markdown",
   "id": "f01f249f",
   "metadata": {},
   "source": [
    "#### Summarising the data to understand more about averages, max, min, number of missing data and more"
   ]
  },
  {
   "cell_type": "code",
   "execution_count": 19,
   "id": "2cf6e8ab",
   "metadata": {},
   "outputs": [
    {
     "data": {
      "text/html": [
       "<div>\n",
       "<style scoped>\n",
       "    .dataframe tbody tr th:only-of-type {\n",
       "        vertical-align: middle;\n",
       "    }\n",
       "\n",
       "    .dataframe tbody tr th {\n",
       "        vertical-align: top;\n",
       "    }\n",
       "\n",
       "    .dataframe thead th {\n",
       "        text-align: right;\n",
       "    }\n",
       "</style>\n",
       "<table border=\"1\" class=\"dataframe\">\n",
       "  <thead>\n",
       "    <tr style=\"text-align: right;\">\n",
       "      <th></th>\n",
       "      <th>RespondentID</th>\n",
       "      <th>Year</th>\n",
       "      <th>YearsCodePro</th>\n",
       "      <th>ConvertedComp</th>\n",
       "      <th>WorkWeekHrs</th>\n",
       "    </tr>\n",
       "  </thead>\n",
       "  <tbody>\n",
       "    <tr>\n",
       "      <th>count</th>\n",
       "      <td>111209.000000</td>\n",
       "      <td>111209.000000</td>\n",
       "      <td>94793.000000</td>\n",
       "      <td>9.133300e+04</td>\n",
       "      <td>51089.000000</td>\n",
       "    </tr>\n",
       "    <tr>\n",
       "      <th>mean</th>\n",
       "      <td>19262.039709</td>\n",
       "      <td>2018.854832</td>\n",
       "      <td>9.547045</td>\n",
       "      <td>1.251777e+05</td>\n",
       "      <td>41.051670</td>\n",
       "    </tr>\n",
       "    <tr>\n",
       "      <th>std</th>\n",
       "      <td>11767.011322</td>\n",
       "      <td>0.777503</td>\n",
       "      <td>7.548931</td>\n",
       "      <td>2.461218e+05</td>\n",
       "      <td>13.833929</td>\n",
       "    </tr>\n",
       "    <tr>\n",
       "      <th>min</th>\n",
       "      <td>1.000000</td>\n",
       "      <td>2018.000000</td>\n",
       "      <td>0.000000</td>\n",
       "      <td>0.000000e+00</td>\n",
       "      <td>1.000000</td>\n",
       "    </tr>\n",
       "    <tr>\n",
       "      <th>25%</th>\n",
       "      <td>9268.000000</td>\n",
       "      <td>2018.000000</td>\n",
       "      <td>4.000000</td>\n",
       "      <td>4.600000e+04</td>\n",
       "      <td>40.000000</td>\n",
       "    </tr>\n",
       "    <tr>\n",
       "      <th>50%</th>\n",
       "      <td>18535.000000</td>\n",
       "      <td>2019.000000</td>\n",
       "      <td>8.000000</td>\n",
       "      <td>7.900000e+04</td>\n",
       "      <td>40.000000</td>\n",
       "    </tr>\n",
       "    <tr>\n",
       "      <th>75%</th>\n",
       "      <td>28347.000000</td>\n",
       "      <td>2019.000000</td>\n",
       "      <td>14.000000</td>\n",
       "      <td>1.200000e+05</td>\n",
       "      <td>42.000000</td>\n",
       "    </tr>\n",
       "    <tr>\n",
       "      <th>max</th>\n",
       "      <td>42857.000000</td>\n",
       "      <td>2020.000000</td>\n",
       "      <td>50.000000</td>\n",
       "      <td>2.000000e+06</td>\n",
       "      <td>475.000000</td>\n",
       "    </tr>\n",
       "  </tbody>\n",
       "</table>\n",
       "</div>"
      ],
      "text/plain": [
       "        RespondentID           Year  YearsCodePro  ConvertedComp   WorkWeekHrs\n",
       "count  111209.000000  111209.000000  94793.000000   9.133300e+04  51089.000000\n",
       "mean    19262.039709    2018.854832      9.547045   1.251777e+05     41.051670\n",
       "std     11767.011322       0.777503      7.548931   2.461218e+05     13.833929\n",
       "min         1.000000    2018.000000      0.000000   0.000000e+00      1.000000\n",
       "25%      9268.000000    2018.000000      4.000000   4.600000e+04     40.000000\n",
       "50%     18535.000000    2019.000000      8.000000   7.900000e+04     40.000000\n",
       "75%     28347.000000    2019.000000     14.000000   1.200000e+05     42.000000\n",
       "max     42857.000000    2020.000000     50.000000   2.000000e+06    475.000000"
      ]
     },
     "execution_count": 19,
     "metadata": {},
     "output_type": "execute_result"
    }
   ],
   "source": [
    "df.describe()"
   ]
  },
  {
   "cell_type": "markdown",
   "id": "c8eac905",
   "metadata": {},
   "source": [
    "#### Checking the percentage of missing data in each column "
   ]
  },
  {
   "cell_type": "code",
   "execution_count": 50,
   "id": "d5739cf6",
   "metadata": {},
   "outputs": [
    {
     "name": "stdout",
     "output_type": "stream",
     "text": [
      "% Missing Data:\n",
      "RespondentID               0.0\n",
      "Year                       0.0\n",
      "Country                    0.0\n",
      "Employment                 2.0\n",
      "UndergradMajor            11.0\n",
      "DevType                   10.0\n",
      "LanguageWorkedWith         8.0\n",
      "LanguageDesireNextYear    14.0\n",
      "DatabaseWorkedWith        23.0\n",
      "DatabaseDesireNextYear    33.0\n",
      "PlatformWorkedWith        18.0\n",
      "PlatformDesireNextYear    23.0\n",
      "Hobbyist                  39.0\n",
      "OrgSize                   51.0\n",
      "YearsCodePro              15.0\n",
      "JobSeek                   46.0\n",
      "ConvertedComp             18.0\n",
      "WorkWeekHrs               54.0\n",
      "NEWJobHunt                83.0\n",
      "NEWJobHuntResearch        83.0\n",
      "NEWLearn                  78.0\n",
      "dtype: float64\n"
     ]
    }
   ],
   "source": [
    "maxRows = df['RespondentID'].count()\n",
    "\n",
    "columns_count = round((1 - df.count() / maxRows),2) * 100\n",
    "\n",
    "print('% Missing Data:')\n",
    "\n",
    "print(columns_count)"
   ]
  },
  {
   "cell_type": "markdown",
   "id": "b94beb2e",
   "metadata": {},
   "source": [
    "Columns 'NEWJobHunt', 'NEWJobHuntResearch' and 'NEWLearn' will be delited as they have over 60% of missing data."
   ]
  },
  {
   "cell_type": "markdown",
   "id": "a302f074",
   "metadata": {},
   "source": [
    "#### Deleting the columns "
   ]
  },
  {
   "cell_type": "code",
   "execution_count": null,
   "id": "5ed0ee63",
   "metadata": {},
   "outputs": [],
   "source": [
    "df.drop([ 'NEWJobHunt', 'NEWJobHuntResearch', 'NEWLearn'], axis = 1, inplace = True)"
   ]
  },
  {
   "cell_type": "markdown",
   "id": "ecdb16be",
   "metadata": {},
   "source": [
    "#### Cleaning to analyze "
   ]
  },
  {
   "cell_type": "markdown",
   "id": "c5006693",
   "metadata": {},
   "source": [
    "The first analysis will be on the distribution of developer types by country. \n",
    "But both the 'Employment' and 'DevType' columns have less than 10% of missing data. \n",
    "\n",
    "So, the first step to analyze the developers' type geographic distribution is to clean the data from the mentioned columns.\n"
   ]
  },
  {
   "cell_type": "markdown",
   "id": "b3b79113",
   "metadata": {},
   "source": [
    "#### Checking the number of respondents and missing data from each country"
   ]
  },
  {
   "cell_type": "markdown",
   "id": "ceca6e60",
   "metadata": {},
   "source": [
    "Number of respondents from each country"
   ]
  },
  {
   "cell_type": "code",
   "execution_count": 86,
   "id": "1ef1d0bc",
   "metadata": {},
   "outputs": [
    {
     "name": "stdout",
     "output_type": "stream",
     "text": [
      "                RespondentID\n",
      "Country                     \n",
      "Canada                  8979\n",
      "China                   2072\n",
      "France                  6861\n",
      "Germany                16215\n",
      "Japan                   1049\n",
      "Mexico                  1918\n",
      "Spain                   4534\n",
      "United Kingdom         15854\n",
      "United States          53727\n"
     ]
    }
   ],
   "source": [
    "res_total = df[['RespondentID']].groupby(df['Country']).count()\n",
    "print(res_total)\n"
   ]
  },
  {
   "cell_type": "markdown",
   "id": "3a416170",
   "metadata": {},
   "source": [
    "Number of missing data from each country"
   ]
  },
  {
   "cell_type": "code",
   "execution_count": 14,
   "id": "1ad342cb",
   "metadata": {},
   "outputs": [
    {
     "name": "stdout",
     "output_type": "stream",
     "text": [
      "          Country  Employment  DevType\n",
      "0          Canada         148      944\n",
      "1           China         139      491\n",
      "2          France         104      848\n",
      "3         Germany         386     1691\n",
      "4           Japan          13      109\n",
      "5          Mexico          25      207\n",
      "6           Spain          74      434\n",
      "7  United Kingdom         196     1472\n",
      "8   United States         699     4580\n"
     ]
    }
   ],
   "source": [
    "missing_data = df[['Employment', 'DevType']].isnull().groupby(df['Country']).sum().reset_index()\n",
    "\n",
    "print(missing_data)"
   ]
  },
  {
   "cell_type": "markdown",
   "id": "8231836a",
   "metadata": {},
   "source": [
    "Creating a bar chart to vizualise the missing data "
   ]
  },
  {
   "cell_type": "code",
   "execution_count": 85,
   "id": "a7a30500",
   "metadata": {},
   "outputs": [
    {
     "data": {
      "image/png": "[encoded data removed]",
      "text/plain": [
       "<Figure size 1008x288 with 1 Axes>"
      ]
     },
     "metadata": {
      "needs_background": "light"
     },
     "output_type": "display_data"
    }
   ],
   "source": [
    "fig = plt.figure(figsize = (14, 4))\n",
    "plt.bar(missing_data['Country'], missing_data['Employment'],color = 'Blue', alpha = 0.7)\n",
    "#plt.bar(missing_data['Country'], res_total['RespondentID'], alpha = 0.2)\n",
    "plt.bar(missing_data['Country'], missing_data['DevType'], color = 'Yellow', alpha = 0.20)\n",
    "plt.legend(['Employment', 'DevType'])\n",
    "plt.title('Missing Data on Employment and DevType Columns')\n",
    "plt.show()"
   ]
  },
  {
   "cell_type": "markdown",
   "id": "b5d6db4c",
   "metadata": {},
   "source": [
    "As we can see from the above plots, the data doesn’t appear to be missing for any country significantly more than any other. And the missing data is related to the number of respendents. Note that the United States and Germany have significantly more developers (on average) than the other countries, explaining why they have more missing data points.\n",
    "\n",
    "Based on this analyzes we can categorize the missing data as MCAR (Missing Completely at Random). This means we can safely delete the rows that have missing data in these columns."
   ]
  },
  {
   "cell_type": "markdown",
   "id": "468e0563",
   "metadata": {},
   "source": [
    "#### Deleting missing data from Employment and DevType columns "
   ]
  },
  {
   "cell_type": "code",
   "execution_count": 94,
   "id": "7086ed57",
   "metadata": {},
   "outputs": [],
   "source": [
    "df.dropna(subset = ['Employment', 'DevType'], inplace = True, how = 'any')"
   ]
  },
  {
   "cell_type": "markdown",
   "id": "fd9f5db6",
   "metadata": {},
   "source": [
    "#### Plotting a bar chart to analyze types of developers by country "
   ]
  },
  {
   "cell_type": "code",
   "execution_count": 95,
   "id": "d6ab1e42",
   "metadata": {},
   "outputs": [
    {
     "name": "stderr",
     "output_type": "stream",
     "text": [
      "C:\\Users\\Jose Luiz\\AppData\\Local\\Temp\\ipykernel_14968\\1029819065.py:7: SettingWithCopyWarning: \n",
      "A value is trying to be set on a copy of a slice from a DataFrame.\n",
      "Try using .loc[row_indexer,col_indexer] = value instead\n",
      "\n",
      "See the caveats in the documentation: https://pandas.pydata.org/pandas-docs/stable/user_guide/indexing.html#returning-a-view-versus-a-copy\n",
      "  devdf.loc[devdf['DevType'].str.contains('back-end'), 'BackEnd'] = True\n",
      "C:\\Users\\Jose Luiz\\AppData\\Local\\Temp\\ipykernel_14968\\1029819065.py:8: SettingWithCopyWarning: \n",
      "A value is trying to be set on a copy of a slice from a DataFrame.\n",
      "Try using .loc[row_indexer,col_indexer] = value instead\n",
      "\n",
      "See the caveats in the documentation: https://pandas.pydata.org/pandas-docs/stable/user_guide/indexing.html#returning-a-view-versus-a-copy\n",
      "  devdf.loc[devdf['DevType'].str.contains('front-end'), 'FrontEnd'] = True\n",
      "C:\\Users\\Jose Luiz\\AppData\\Local\\Temp\\ipykernel_14968\\1029819065.py:9: SettingWithCopyWarning: \n",
      "A value is trying to be set on a copy of a slice from a DataFrame.\n",
      "Try using .loc[row_indexer,col_indexer] = value instead\n",
      "\n",
      "See the caveats in the documentation: https://pandas.pydata.org/pandas-docs/stable/user_guide/indexing.html#returning-a-view-versus-a-copy\n",
      "  devdf.loc[devdf['DevType'].str.contains('full-stack'), 'FullStack'] = True\n",
      "C:\\Users\\Jose Luiz\\AppData\\Local\\Temp\\ipykernel_14968\\1029819065.py:10: SettingWithCopyWarning: \n",
      "A value is trying to be set on a copy of a slice from a DataFrame.\n",
      "Try using .loc[row_indexer,col_indexer] = value instead\n",
      "\n",
      "See the caveats in the documentation: https://pandas.pydata.org/pandas-docs/stable/user_guide/indexing.html#returning-a-view-versus-a-copy\n",
      "  devdf.loc[devdf['DevType'].str.contains('mobile'), 'Mobile'] = True\n",
      "C:\\Users\\Jose Luiz\\AppData\\Local\\Temp\\ipykernel_14968\\1029819065.py:11: SettingWithCopyWarning: \n",
      "A value is trying to be set on a copy of a slice from a DataFrame.\n",
      "Try using .loc[row_indexer,col_indexer] = value instead\n",
      "\n",
      "See the caveats in the documentation: https://pandas.pydata.org/pandas-docs/stable/user_guide/indexing.html#returning-a-view-versus-a-copy\n",
      "  devdf.loc[devdf['DevType'].str.contains('administrator'), 'Admin'] = True\n"
     ]
    },
    {
     "data": {
      "image/png": "[encoded data removed]",
      "text/plain": [
       "<Figure size 3888x432 with 6 Axes>"
      ]
     },
     "metadata": {
      "needs_background": "light"
     },
     "output_type": "display_data"
    },
    {
     "data": {
      "image/png": "[encoded data removed]",
      "text/plain": [
       "<Figure size 3240x432 with 5 Axes>"
      ]
     },
     "metadata": {
      "needs_background": "light"
     },
     "output_type": "display_data"
    }
   ],
   "source": [
    "empfig = sns.catplot(x=\"Country\", col=\"Employment\",\n",
    "                data=df, kind=\"count\",\n",
    "                height=6, aspect=1.5);\n",
    " \n",
    "# Focus on a few of the key developer types outlined in the Stack Overflow survey\n",
    "devdf = df[['Country','DevType']]\n",
    "devdf.loc[devdf['DevType'].str.contains('back-end'), 'BackEnd'] = True\n",
    "devdf.loc[devdf['DevType'].str.contains('front-end'), 'FrontEnd'] = True\n",
    "devdf.loc[devdf['DevType'].str.contains('full-stack'), 'FullStack'] = True\n",
    "devdf.loc[devdf['DevType'].str.contains('mobile'), 'Mobile'] = True\n",
    "devdf.loc[devdf['DevType'].str.contains('administrator'), 'Admin'] = True\n",
    " \n",
    "devdf = devdf.melt(id_vars=['Country'], \n",
    "    value_vars=['BackEnd','FrontEnd','FullStack','Mobile','Admin'], \n",
    "    var_name='DevCat',\n",
    "    value_name='DevFlag')\n",
    " \n",
    "devdf.dropna(how='any', inplace=True)\n",
    " \n",
    "devFig = sns.catplot(x=\"Country\", col=\"DevCat\",\n",
    "                data=devdf, kind=\"count\",\n",
    "                height=6, aspect=1.5);"
   ]
  },
  {
   "cell_type": "markdown",
   "id": "e176cd92",
   "metadata": {},
   "source": [
    "#### Investigate developer undergraduate majors"
   ]
  },
  {
   "cell_type": "markdown",
   "id": "a943d254",
   "metadata": {},
   "source": [
    "To analyze the developer undergraduate majors we would have to take a look at the UndergradMajor variable. \n",
    "But saw before that this column is missing 11% of the data. So let's take a look at the missing data to understand how we can handle it. "
   ]
  },
  {
   "cell_type": "markdown",
   "id": "8a61f297",
   "metadata": {},
   "source": [
    "#### Analyzing the data missing distribution  "
   ]
  },
  {
   "cell_type": "code",
   "execution_count": 101,
   "id": "2549499b",
   "metadata": {},
   "outputs": [
    {
     "data": {
      "image/png": "[encoded data removed]",
      "text/plain": [
       "<Figure size 288x288 with 1 Axes>"
      ]
     },
     "metadata": {
      "needs_background": "light"
     },
     "output_type": "display_data"
    }
   ],
   "source": [
    "missingUndergrad = df['UndergradMajor'].isnull().groupby(df['Year']).sum().reset_index()\n",
    "\n",
    "sns.catplot(x=\"Year\", y=\"UndergradMajor\",\n",
    "                data=missingUndergrad, kind=\"bar\",\n",
    "                height=4, aspect=1);"
   ]
  },
  {
   "cell_type": "markdown",
   "id": "7d96ac23",
   "metadata": {},
   "source": [
    "As we can see, 2020 has no missing data. Based on this we can use the NOCB to fill in the missing data. "
   ]
  },
  {
   "cell_type": "code",
   "execution_count": 103,
   "id": "98b0fbba",
   "metadata": {},
   "outputs": [],
   "source": [
    "df = df.sort_values(['RespondentID', 'Year'])\n",
    "\n",
    "df['UndergradMajor'].bfill(axis=0, inplace=True)"
   ]
  },
  {
   "cell_type": "markdown",
   "id": "a6f61f81",
   "metadata": {},
   "source": [
    "#### Analyzing the major distribution for each year using bar chart "
   ]
  },
  {
   "cell_type": "code",
   "execution_count": 105,
   "id": "37523bff",
   "metadata": {},
   "outputs": [
    {
     "name": "stderr",
     "output_type": "stream",
     "text": [
      "C:\\Users\\Jose Luiz\\AppData\\Local\\Temp\\ipykernel_14968\\2377137730.py:4: SettingWithCopyWarning: \n",
      "A value is trying to be set on a copy of a slice from a DataFrame\n",
      "\n",
      "See the caveats in the documentation: https://pandas.pydata.org/pandas-docs/stable/user_guide/indexing.html#returning-a-view-versus-a-copy\n",
      "  edudf.dropna(how='any', inplace=True)\n",
      "C:\\Users\\Jose Luiz\\AppData\\Local\\Temp\\ipykernel_14968\\2377137730.py:5: SettingWithCopyWarning: \n",
      "A value is trying to be set on a copy of a slice from a DataFrame.\n",
      "Try using .loc[row_indexer,col_indexer] = value instead\n",
      "\n",
      "See the caveats in the documentation: https://pandas.pydata.org/pandas-docs/stable/user_guide/indexing.html#returning-a-view-versus-a-copy\n",
      "  edudf.loc[edudf['UndergradMajor'].str.contains('(?i)social science'), 'SocialScience'] = True\n",
      "C:\\Users\\Jose Luiz\\AppData\\Local\\Temp\\ipykernel_14968\\2377137730.py:6: SettingWithCopyWarning: \n",
      "A value is trying to be set on a copy of a slice from a DataFrame.\n",
      "Try using .loc[row_indexer,col_indexer] = value instead\n",
      "\n",
      "See the caveats in the documentation: https://pandas.pydata.org/pandas-docs/stable/user_guide/indexing.html#returning-a-view-versus-a-copy\n",
      "  edudf.loc[edudf['UndergradMajor'].str.contains('(?i)natural science'), 'NaturalScience'] = True\n",
      "C:\\Users\\Jose Luiz\\AppData\\Local\\Temp\\ipykernel_14968\\2377137730.py:7: SettingWithCopyWarning: \n",
      "A value is trying to be set on a copy of a slice from a DataFrame.\n",
      "Try using .loc[row_indexer,col_indexer] = value instead\n",
      "\n",
      "See the caveats in the documentation: https://pandas.pydata.org/pandas-docs/stable/user_guide/indexing.html#returning-a-view-versus-a-copy\n",
      "  edudf.loc[edudf['UndergradMajor'].str.contains('(?i)computer science'), 'ComSci'] = True\n",
      "C:\\Users\\Jose Luiz\\AppData\\Local\\Temp\\ipykernel_14968\\2377137730.py:9: SettingWithCopyWarning: \n",
      "A value is trying to be set on a copy of a slice from a DataFrame.\n",
      "Try using .loc[row_indexer,col_indexer] = value instead\n",
      "\n",
      "See the caveats in the documentation: https://pandas.pydata.org/pandas-docs/stable/user_guide/indexing.html#returning-a-view-versus-a-copy\n",
      "  edudf.loc[edudf['UndergradMajor'].str.contains('(?i)another engineering'), 'OtherEng'] = True\n",
      "C:\\Users\\Jose Luiz\\AppData\\Local\\Temp\\ipykernel_14968\\2377137730.py:10: SettingWithCopyWarning: \n",
      "A value is trying to be set on a copy of a slice from a DataFrame.\n",
      "Try using .loc[row_indexer,col_indexer] = value instead\n",
      "\n",
      "See the caveats in the documentation: https://pandas.pydata.org/pandas-docs/stable/user_guide/indexing.html#returning-a-view-versus-a-copy\n",
      "  edudf.loc[edudf['UndergradMajor'].str.contains('(?i)never declared'), 'NoMajor'] = True\n"
     ]
    },
    {
     "data": {
      "image/png": "[encoded data removed]",
      "text/plain": [
       "<Figure size 3240x432 with 5 Axes>"
      ]
     },
     "metadata": {
      "needs_background": "light"
     },
     "output_type": "display_data"
    }
   ],
   "source": [
    "majors = ['social science','natural science','computer science','development','another engineering','never declared']\n",
    " \n",
    "edudf = df[['Year','UndergradMajor']]\n",
    "edudf.dropna(how='any', inplace=True)\n",
    "edudf.loc[edudf['UndergradMajor'].str.contains('(?i)social science'), 'SocialScience'] = True\n",
    "edudf.loc[edudf['UndergradMajor'].str.contains('(?i)natural science'), 'NaturalScience'] = True\n",
    "edudf.loc[edudf['UndergradMajor'].str.contains('(?i)computer science'), 'ComSci'] = True\n",
    "edudf.loc[edudf['UndergradMajor'].str.contains('(?i)development'), 'ComSci'] = True\n",
    "edudf.loc[edudf['UndergradMajor'].str.contains('(?i)another engineering'), 'OtherEng'] = True\n",
    "edudf.loc[edudf['UndergradMajor'].str.contains('(?i)never declared'), 'NoMajor'] = True\n",
    " \n",
    "edudf = edudf.melt(id_vars=['Year'], \n",
    "    value_vars=['SocialScience','NaturalScience','ComSci','OtherEng','NoMajor'], \n",
    "    var_name='EduCat',\n",
    "    value_name='EduFlag')\n",
    " \n",
    "edudf.dropna(how='any', inplace=True)\n",
    "edudf = edudf.groupby(['Year','EduCat']).count().reset_index()\n",
    " \n",
    "eduFig = sns.catplot(x=\"Year\", y='EduFlag', col=\"EduCat\",\n",
    "                data=edudf, kind=\"bar\",\n",
    "                height=6, aspect=1.5);"
   ]
  },
  {
   "cell_type": "markdown",
   "id": "0e799279",
   "metadata": {},
   "source": [
    "#### Analyzing the relationship between years of experience and compensation "
   ]
  },
  {
   "cell_type": "markdown",
   "id": "98f1b25b",
   "metadata": {},
   "source": [
    "Exploring the data from the fileds "
   ]
  },
  {
   "cell_type": "code",
   "execution_count": 112,
   "id": "43d11d9a",
   "metadata": {},
   "outputs": [
    {
     "data": {
      "image/png": "[encoded data removed]",
      "text/plain": [
       "<Figure size 432x288 with 1 Axes>"
      ]
     },
     "metadata": {
      "needs_background": "light"
     },
     "output_type": "display_data"
    }
   ],
   "source": [
    "compFields = df[['Year','YearsCodePro','ConvertedComp']]\n",
    " \n",
    "D = sns.boxplot(x=\"Year\", y=\"YearsCodePro\", data=compFields)\n",
    " \n"
   ]
  },
  {
   "cell_type": "code",
   "execution_count": 114,
   "id": "14824047",
   "metadata": {},
   "outputs": [
    {
     "data": {
      "image/png": "[encoded data removed]",
      "text/plain": [
       "<Figure size 432x288 with 1 Axes>"
      ]
     },
     "metadata": {
      "needs_background": "light"
     },
     "output_type": "display_data"
    }
   ],
   "source": [
    " E = sns.boxplot(x=\"Year\", y=\"ConvertedComp\", data=compFields)"
   ]
  },
  {
   "cell_type": "markdown",
   "id": "46f59d58",
   "metadata": {},
   "source": [
    "Although the data show some outliears points for each column, the overall distribution is fairly consistent year-over-year. \n",
    "This indicates that there is a strong correlation between the data points, which should tell a good story about how experience can translate into compensation. \n",
    "Since there is a clear trend with the data points, we decide the best method for filling in the missing data for these two columns is through Multiple Imputation.\n"
   ]
  },
  {
   "cell_type": "code",
   "execution_count": 117,
   "id": "a67fe876",
   "metadata": {},
   "outputs": [],
   "source": [
    "import numpy as np\n",
    "from sklearn.experimental import enable_iterative_imputer\n",
    "from sklearn.impute import IterativeImputer\n",
    "from sklearn.model_selection import train_test_split\n",
    " \n",
    "imputedf = df[['YearsCodePro','ConvertedComp']]\n",
    " \n",
    "traindf, testdf = train_test_split(imputedf, train_size=0.1)\n",
    " \n",
    "# Create the IterativeImputer model to predict missing values\n",
    "imp = IterativeImputer(max_iter=20, random_state=0)\n",
    " \n",
    "# Fit the model to the the test dataset\n",
    "imp.fit(imputedf)\n",
    " \n",
    "# Transform the model on the entire dataset\n",
    "compdf = pd.DataFrame(np.round(imp.transform(imputedf),0), columns=['YearsCodePro','ConvertedComp'])"
   ]
  },
  {
   "cell_type": "markdown",
   "id": "2dd3a551",
   "metadata": {},
   "source": [
    "Now that we filled in the missing data, we can use a boxplot to analyze the relation between salary and years of experience."
   ]
  },
  {
   "cell_type": "code",
   "execution_count": 123,
   "id": "a70e6c52",
   "metadata": {},
   "outputs": [
    {
     "name": "stderr",
     "output_type": "stream",
     "text": [
      "C:\\Users\\Jose Luiz\\AppData\\Local\\Temp\\ipykernel_14968\\2851799836.py:2: SettingWithCopyWarning: \n",
      "A value is trying to be set on a copy of a slice from a DataFrame.\n",
      "Try using .loc[row_indexer,col_indexer] = value instead\n",
      "\n",
      "See the caveats in the documentation: https://pandas.pydata.org/pandas-docs/stable/user_guide/indexing.html#returning-a-view-versus-a-copy\n",
      "  compPlotdf['CodeYearBins'] = pd.qcut(compPlotdf['YearsCodePro'], q=5)\n"
     ]
    },
    {
     "data": {
      "text/plain": [
       "<AxesSubplot:xlabel='CodeYearBins', ylabel='ConvertedComp'>"
      ]
     },
     "execution_count": 123,
     "metadata": {},
     "output_type": "execute_result"
    },
    {
     "data": {
      "image/png": "[encoded data removed]",
      "text/plain": [
       "<Figure size 432x288 with 1 Axes>"
      ]
     },
     "metadata": {
      "needs_background": "light"
     },
     "output_type": "display_data"
    }
   ],
   "source": [
    "compPlotdf = compdf.loc[compdf['ConvertedComp'] <= 150000]\n",
    "compPlotdf['CodeYearBins'] = pd.qcut(compPlotdf['YearsCodePro'], q=5)\n",
    " \n",
    "sns.boxplot(x=\"CodeYearBins\", y=\"ConvertedComp\",\n",
    "            data=compPlotdf)"
   ]
  },
  {
   "cell_type": "markdown",
   "id": "bae91484",
   "metadata": {},
   "source": [
    "While there are high (and low) earning developers at every experience level, experience appears to correlate with compensation. The more experienced a developer was, the more (on average) they were compensated."
   ]
  }
 ],
 "metadata": {
  "kernelspec": {
   "display_name": "Python 3 (ipykernel)",
   "language": "python",
   "name": "python3"
  },
  "language_info": {
   "codemirror_mode": {
    "name": "ipython",
    "version": 3
   },
   "file_extension": ".py",
   "mimetype": "text/x-python",
   "name": "python",
   "nbconvert_exporter": "python",
   "pygments_lexer": "ipython3",
   "version": "3.9.12"
  }
 },
 "nbformat": 4,
 "nbformat_minor": 5
}
